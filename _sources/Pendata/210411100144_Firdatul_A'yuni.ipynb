{
  "cells": [
    {
      "cell_type": "markdown",
      "metadata": {
        "id": "view-in-github",
        "colab_type": "text"
      },
      "source": [
        "<a href=\"https://colab.research.google.com/github/Firdatulayuni/Pendata/blob/main/210411100144_Firdatul_A'yuni.ipynb\" target=\"_parent\"><img src=\"https://colab.research.google.com/assets/colab-badge.svg\" alt=\"Open In Colab\"/></a>"
      ]
    },
    {
      "cell_type": "markdown",
      "id": "7392c2d9",
      "metadata": {
        "id": "7392c2d9"
      },
      "source": [
        "# Menarik data iris dari prosgesql dan dibaca dengan python dijadikan dataframe "
      ]
    },
    {
      "cell_type": "code",
      "execution_count": null,
      "id": "ac2a96cc",
      "metadata": {
        "id": "ac2a96cc",
        "outputId": "360e6d9f-392a-4533-c036-6e703addb2fb"
      },
      "outputs": [
        {
          "name": "stdout",
          "output_type": "stream",
          "text": [
            "Requirement already satisfied: psycopg2 in c:\\users\\firdatul ayuni\\appdata\\local\\programs\\python\\python310\\lib\\site-packages (2.9.5)\n"
          ]
        },
        {
          "name": "stderr",
          "output_type": "stream",
          "text": [
            "WARNING: You are using pip version 22.0.4; however, version 23.0.1 is available.\n",
            "You should consider upgrading via the 'C:\\Users\\Firdatul Ayuni\\AppData\\Local\\Programs\\Python\\Python310\\python.exe -m pip install --upgrade pip' command.\n"
          ]
        }
      ],
      "source": [
        "!pip install psycopg2"
      ]
    },
    {
      "cell_type": "code",
      "execution_count": null,
      "id": "954eb9d3",
      "metadata": {
        "id": "954eb9d3",
        "outputId": "1936f129-59d0-47de-b9a6-bff2d115df5a"
      },
      "outputs": [
        {
          "name": "stdout",
          "output_type": "stream",
          "text": [
            "Requirement already satisfied: pandas in c:\\users\\firdatul ayuni\\appdata\\local\\programs\\python\\python310\\lib\\site-packages (1.5.3)\n",
            "Requirement already satisfied: numpy>=1.21.0 in c:\\users\\firdatul ayuni\\appdata\\local\\programs\\python\\python310\\lib\\site-packages (from pandas) (1.24.2)\n",
            "Requirement already satisfied: pytz>=2020.1 in c:\\users\\firdatul ayuni\\appdata\\local\\programs\\python\\python310\\lib\\site-packages (from pandas) (2022.1)\n",
            "Requirement already satisfied: python-dateutil>=2.8.1 in c:\\users\\firdatul ayuni\\appdata\\local\\programs\\python\\python310\\lib\\site-packages (from pandas) (2.8.2)\n",
            "Requirement already satisfied: six>=1.5 in c:\\users\\firdatul ayuni\\appdata\\local\\programs\\python\\python310\\lib\\site-packages (from python-dateutil>=2.8.1->pandas) (1.16.0)\n"
          ]
        },
        {
          "name": "stderr",
          "output_type": "stream",
          "text": [
            "WARNING: You are using pip version 22.0.4; however, version 23.0.1 is available.\n",
            "You should consider upgrading via the 'C:\\Users\\Firdatul Ayuni\\AppData\\Local\\Programs\\Python\\Python310\\python.exe -m pip install --upgrade pip' command.\n"
          ]
        }
      ],
      "source": [
        "!pip install pandas"
      ]
    },
    {
      "cell_type": "markdown",
      "id": "59d952a7",
      "metadata": {
        "id": "59d952a7"
      },
      "source": [
        "# Koneksi database"
      ]
    },
    {
      "cell_type": "code",
      "execution_count": null,
      "id": "662cf562",
      "metadata": {
        "id": "662cf562"
      },
      "outputs": [],
      "source": [
        "import psycopg2\n",
        "import pandas as pd\n",
        "# Connection parameters, yours will be different\n",
        "param_dic = {\n",
        "    \"host\"      : \"localhost\",\n",
        "    \"database\"  : \"postgres\",\n",
        "    \"user\"      : \"postgres\",\n",
        "    \"password\"  : \"psg_FIRD4\"\n",
        "}\n",
        "def connect(params_dic):\n",
        "    \"\"\" Connect to the PostgreSQL database server \"\"\"\n",
        "    conn = None\n",
        "    try:\n",
        "        # connect to the PostgreSQL server\n",
        "        print('Connecting to the PostgreSQL database...')\n",
        "        conn = psycopg2.connect(**params_dic)\n",
        "    except (Exception, psycopg2.DatabaseError) as error:\n",
        "        print(error)\n",
        "        sys.exit(1) \n",
        "    print(\"Connection successful\")\n",
        "    return conn"
      ]
    },
    {
      "cell_type": "code",
      "execution_count": null,
      "id": "5ed7e033",
      "metadata": {
        "id": "5ed7e033"
      },
      "outputs": [],
      "source": [
        "def postgresql_to_dataframe(conn, select_query, column_names):\n",
        "    \"\"\"\n",
        "    Tranform a SELECT query into a pandas dataframe\n",
        "    \"\"\"\n",
        "    cursor = conn.cursor()\n",
        "    try:\n",
        "        cursor.execute(select_query)\n",
        "    except (Exception, psycopg2.DatabaseError) as error:\n",
        "        print(\"Error: %s\" % error)\n",
        "        cursor.close()\n",
        "        return 1\n",
        "    \n",
        "    # Naturally we get a list of tupples\n",
        "    tupples = cursor.fetchall()\n",
        "    cursor.close()\n",
        "    \n",
        "    # We just need to turn it into a pandas dataframe\n",
        "    df = pd.DataFrame(tupples, columns=column_names)\n",
        "    return df"
      ]
    },
    {
      "cell_type": "markdown",
      "id": "4715c7c6",
      "metadata": {
        "id": "4715c7c6"
      },
      "source": [
        "# menampilkan dataframe table yang di database"
      ]
    },
    {
      "cell_type": "code",
      "execution_count": null,
      "id": "d57aa8ea",
      "metadata": {
        "id": "d57aa8ea",
        "outputId": "42e153be-7f07-4fbb-d4be-4990c4a8c9b9"
      },
      "outputs": [
        {
          "name": "stdout",
          "output_type": "stream",
          "text": [
            "Connecting to the PostgreSQL database...\n",
            "Connection successful\n"
          ]
        },
        {
          "data": {
            "text/html": [
              "<div>\n",
              "<style scoped>\n",
              "    .dataframe tbody tr th:only-of-type {\n",
              "        vertical-align: middle;\n",
              "    }\n",
              "\n",
              "    .dataframe tbody tr th {\n",
              "        vertical-align: top;\n",
              "    }\n",
              "\n",
              "    .dataframe thead th {\n",
              "        text-align: right;\n",
              "    }\n",
              "</style>\n",
              "<table border=\"1\" class=\"dataframe\">\n",
              "  <thead>\n",
              "    <tr style=\"text-align: right;\">\n",
              "      <th></th>\n",
              "      <th>sepal_length</th>\n",
              "      <th>sepal_width</th>\n",
              "      <th>petal_length</th>\n",
              "      <th>petal_width</th>\n",
              "      <th>variety</th>\n",
              "    </tr>\n",
              "  </thead>\n",
              "  <tbody>\n",
              "    <tr>\n",
              "      <th>0</th>\n",
              "      <td>5.1</td>\n",
              "      <td>3.5</td>\n",
              "      <td>1.4</td>\n",
              "      <td>.2</td>\n",
              "      <td>Setosa</td>\n",
              "    </tr>\n",
              "    <tr>\n",
              "      <th>1</th>\n",
              "      <td>4.9</td>\n",
              "      <td>3</td>\n",
              "      <td>1.4</td>\n",
              "      <td>.2</td>\n",
              "      <td>Setosa</td>\n",
              "    </tr>\n",
              "    <tr>\n",
              "      <th>2</th>\n",
              "      <td>4.7</td>\n",
              "      <td>3.2</td>\n",
              "      <td>1.3</td>\n",
              "      <td>.2</td>\n",
              "      <td>Setosa</td>\n",
              "    </tr>\n",
              "    <tr>\n",
              "      <th>3</th>\n",
              "      <td>4.6</td>\n",
              "      <td>3.1</td>\n",
              "      <td>1.5</td>\n",
              "      <td>.2</td>\n",
              "      <td>Setosa</td>\n",
              "    </tr>\n",
              "    <tr>\n",
              "      <th>4</th>\n",
              "      <td>5</td>\n",
              "      <td>3.6</td>\n",
              "      <td>1.4</td>\n",
              "      <td>.2</td>\n",
              "      <td>Setosa</td>\n",
              "    </tr>\n",
              "  </tbody>\n",
              "</table>\n",
              "</div>"
            ],
            "text/plain": [
              "  sepal_length sepal_width petal_length petal_width variety\n",
              "0          5.1         3.5          1.4          .2  Setosa\n",
              "1          4.9           3          1.4          .2  Setosa\n",
              "2          4.7         3.2          1.3          .2  Setosa\n",
              "3          4.6         3.1          1.5          .2  Setosa\n",
              "4            5         3.6          1.4          .2  Setosa"
            ]
          },
          "execution_count": 5,
          "metadata": {},
          "output_type": "execute_result"
        }
      ],
      "source": [
        "# Connect to the database\n",
        "conn = connect(param_dic)\n",
        "\n",
        "column_names = [\"sepal_length\", \"sepal_width\", \"petal_length\", \"petal_width\",\"variety\"]\n",
        "# Execute the \"SELECT *\" query\n",
        "df = postgresql_to_dataframe(conn, \"select * from tugas_pendat1\", column_names)\n",
        "df.head()"
      ]
    }
  ],
  "metadata": {
    "kernelspec": {
      "display_name": "Python 3 (ipykernel)",
      "language": "python",
      "name": "python3"
    },
    "language_info": {
      "codemirror_mode": {
        "name": "ipython",
        "version": 3
      },
      "file_extension": ".py",
      "mimetype": "text/x-python",
      "name": "python",
      "nbconvert_exporter": "python",
      "pygments_lexer": "ipython3",
      "version": "3.10.5"
    },
    "colab": {
      "provenance": [],
      "include_colab_link": true
    }
  },
  "nbformat": 4,
  "nbformat_minor": 5
}